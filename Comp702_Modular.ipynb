{
  "nbformat": 4,
  "nbformat_minor": 0,
  "metadata": {
    "colab": {
      "provenance": [],
      "gpuType": "T4",
      "include_colab_link": true
    },
    "kernelspec": {
      "name": "python3",
      "display_name": "Python 3"
    },
    "language_info": {
      "name": "python"
    },
    "accelerator": "GPU",
    "widgets": {
      "application/vnd.jupyter.widget-state+json": {
        "22924fb5250145c185bdff5e4dcab628": {
          "model_module": "@jupyter-widgets/controls",
          "model_name": "HBoxModel",
          "model_module_version": "1.5.0",
          "state": {
            "_dom_classes": [],
            "_model_module": "@jupyter-widgets/controls",
            "_model_module_version": "1.5.0",
            "_model_name": "HBoxModel",
            "_view_count": null,
            "_view_module": "@jupyter-widgets/controls",
            "_view_module_version": "1.5.0",
            "_view_name": "HBoxView",
            "box_style": "",
            "children": [
              "IPY_MODEL_5eaf5bd9ac8a4659bc3129d6a1c12b39",
              "IPY_MODEL_2c526ff0dcc047b2b4bfa6d6cd7e04f0",
              "IPY_MODEL_67c0b32d9efc4c75944d4023858b924f"
            ],
            "layout": "IPY_MODEL_0c371b10e30847beb99945dddabaccd9"
          }
        },
        "5eaf5bd9ac8a4659bc3129d6a1c12b39": {
          "model_module": "@jupyter-widgets/controls",
          "model_name": "HTMLModel",
          "model_module_version": "1.5.0",
          "state": {
            "_dom_classes": [],
            "_model_module": "@jupyter-widgets/controls",
            "_model_module_version": "1.5.0",
            "_model_name": "HTMLModel",
            "_view_count": null,
            "_view_module": "@jupyter-widgets/controls",
            "_view_module_version": "1.5.0",
            "_view_name": "HTMLView",
            "description": "",
            "description_tooltip": null,
            "layout": "IPY_MODEL_b5ac0e1f292947e09ee4213f6225926d",
            "placeholder": "​",
            "style": "IPY_MODEL_df3eb2fdea294523ade2dec009245dc9",
            "value": "100%"
          }
        },
        "2c526ff0dcc047b2b4bfa6d6cd7e04f0": {
          "model_module": "@jupyter-widgets/controls",
          "model_name": "FloatProgressModel",
          "model_module_version": "1.5.0",
          "state": {
            "_dom_classes": [],
            "_model_module": "@jupyter-widgets/controls",
            "_model_module_version": "1.5.0",
            "_model_name": "FloatProgressModel",
            "_view_count": null,
            "_view_module": "@jupyter-widgets/controls",
            "_view_module_version": "1.5.0",
            "_view_name": "ProgressView",
            "bar_style": "success",
            "description": "",
            "description_tooltip": null,
            "layout": "IPY_MODEL_d5a456bea57449bb98bc444e8f27a1b5",
            "max": 150,
            "min": 0,
            "orientation": "horizontal",
            "style": "IPY_MODEL_221150db62e84ec8bd72deb86d1497f1",
            "value": 150
          }
        },
        "67c0b32d9efc4c75944d4023858b924f": {
          "model_module": "@jupyter-widgets/controls",
          "model_name": "HTMLModel",
          "model_module_version": "1.5.0",
          "state": {
            "_dom_classes": [],
            "_model_module": "@jupyter-widgets/controls",
            "_model_module_version": "1.5.0",
            "_model_name": "HTMLModel",
            "_view_count": null,
            "_view_module": "@jupyter-widgets/controls",
            "_view_module_version": "1.5.0",
            "_view_name": "HTMLView",
            "description": "",
            "description_tooltip": null,
            "layout": "IPY_MODEL_51b0d2844157402c82fbb88370bcaa2b",
            "placeholder": "​",
            "style": "IPY_MODEL_dfd485b9e00646ae9713966e9b70e5d9",
            "value": " 150/150 [8:04:46&lt;00:00, 193.66s/it]"
          }
        },
        "0c371b10e30847beb99945dddabaccd9": {
          "model_module": "@jupyter-widgets/base",
          "model_name": "LayoutModel",
          "model_module_version": "1.2.0",
          "state": {
            "_model_module": "@jupyter-widgets/base",
            "_model_module_version": "1.2.0",
            "_model_name": "LayoutModel",
            "_view_count": null,
            "_view_module": "@jupyter-widgets/base",
            "_view_module_version": "1.2.0",
            "_view_name": "LayoutView",
            "align_content": null,
            "align_items": null,
            "align_self": null,
            "border": null,
            "bottom": null,
            "display": null,
            "flex": null,
            "flex_flow": null,
            "grid_area": null,
            "grid_auto_columns": null,
            "grid_auto_flow": null,
            "grid_auto_rows": null,
            "grid_column": null,
            "grid_gap": null,
            "grid_row": null,
            "grid_template_areas": null,
            "grid_template_columns": null,
            "grid_template_rows": null,
            "height": null,
            "justify_content": null,
            "justify_items": null,
            "left": null,
            "margin": null,
            "max_height": null,
            "max_width": null,
            "min_height": null,
            "min_width": null,
            "object_fit": null,
            "object_position": null,
            "order": null,
            "overflow": null,
            "overflow_x": null,
            "overflow_y": null,
            "padding": null,
            "right": null,
            "top": null,
            "visibility": null,
            "width": null
          }
        },
        "b5ac0e1f292947e09ee4213f6225926d": {
          "model_module": "@jupyter-widgets/base",
          "model_name": "LayoutModel",
          "model_module_version": "1.2.0",
          "state": {
            "_model_module": "@jupyter-widgets/base",
            "_model_module_version": "1.2.0",
            "_model_name": "LayoutModel",
            "_view_count": null,
            "_view_module": "@jupyter-widgets/base",
            "_view_module_version": "1.2.0",
            "_view_name": "LayoutView",
            "align_content": null,
            "align_items": null,
            "align_self": null,
            "border": null,
            "bottom": null,
            "display": null,
            "flex": null,
            "flex_flow": null,
            "grid_area": null,
            "grid_auto_columns": null,
            "grid_auto_flow": null,
            "grid_auto_rows": null,
            "grid_column": null,
            "grid_gap": null,
            "grid_row": null,
            "grid_template_areas": null,
            "grid_template_columns": null,
            "grid_template_rows": null,
            "height": null,
            "justify_content": null,
            "justify_items": null,
            "left": null,
            "margin": null,
            "max_height": null,
            "max_width": null,
            "min_height": null,
            "min_width": null,
            "object_fit": null,
            "object_position": null,
            "order": null,
            "overflow": null,
            "overflow_x": null,
            "overflow_y": null,
            "padding": null,
            "right": null,
            "top": null,
            "visibility": null,
            "width": null
          }
        },
        "df3eb2fdea294523ade2dec009245dc9": {
          "model_module": "@jupyter-widgets/controls",
          "model_name": "DescriptionStyleModel",
          "model_module_version": "1.5.0",
          "state": {
            "_model_module": "@jupyter-widgets/controls",
            "_model_module_version": "1.5.0",
            "_model_name": "DescriptionStyleModel",
            "_view_count": null,
            "_view_module": "@jupyter-widgets/base",
            "_view_module_version": "1.2.0",
            "_view_name": "StyleView",
            "description_width": ""
          }
        },
        "d5a456bea57449bb98bc444e8f27a1b5": {
          "model_module": "@jupyter-widgets/base",
          "model_name": "LayoutModel",
          "model_module_version": "1.2.0",
          "state": {
            "_model_module": "@jupyter-widgets/base",
            "_model_module_version": "1.2.0",
            "_model_name": "LayoutModel",
            "_view_count": null,
            "_view_module": "@jupyter-widgets/base",
            "_view_module_version": "1.2.0",
            "_view_name": "LayoutView",
            "align_content": null,
            "align_items": null,
            "align_self": null,
            "border": null,
            "bottom": null,
            "display": null,
            "flex": null,
            "flex_flow": null,
            "grid_area": null,
            "grid_auto_columns": null,
            "grid_auto_flow": null,
            "grid_auto_rows": null,
            "grid_column": null,
            "grid_gap": null,
            "grid_row": null,
            "grid_template_areas": null,
            "grid_template_columns": null,
            "grid_template_rows": null,
            "height": null,
            "justify_content": null,
            "justify_items": null,
            "left": null,
            "margin": null,
            "max_height": null,
            "max_width": null,
            "min_height": null,
            "min_width": null,
            "object_fit": null,
            "object_position": null,
            "order": null,
            "overflow": null,
            "overflow_x": null,
            "overflow_y": null,
            "padding": null,
            "right": null,
            "top": null,
            "visibility": null,
            "width": null
          }
        },
        "221150db62e84ec8bd72deb86d1497f1": {
          "model_module": "@jupyter-widgets/controls",
          "model_name": "ProgressStyleModel",
          "model_module_version": "1.5.0",
          "state": {
            "_model_module": "@jupyter-widgets/controls",
            "_model_module_version": "1.5.0",
            "_model_name": "ProgressStyleModel",
            "_view_count": null,
            "_view_module": "@jupyter-widgets/base",
            "_view_module_version": "1.2.0",
            "_view_name": "StyleView",
            "bar_color": null,
            "description_width": ""
          }
        },
        "51b0d2844157402c82fbb88370bcaa2b": {
          "model_module": "@jupyter-widgets/base",
          "model_name": "LayoutModel",
          "model_module_version": "1.2.0",
          "state": {
            "_model_module": "@jupyter-widgets/base",
            "_model_module_version": "1.2.0",
            "_model_name": "LayoutModel",
            "_view_count": null,
            "_view_module": "@jupyter-widgets/base",
            "_view_module_version": "1.2.0",
            "_view_name": "LayoutView",
            "align_content": null,
            "align_items": null,
            "align_self": null,
            "border": null,
            "bottom": null,
            "display": null,
            "flex": null,
            "flex_flow": null,
            "grid_area": null,
            "grid_auto_columns": null,
            "grid_auto_flow": null,
            "grid_auto_rows": null,
            "grid_column": null,
            "grid_gap": null,
            "grid_row": null,
            "grid_template_areas": null,
            "grid_template_columns": null,
            "grid_template_rows": null,
            "height": null,
            "justify_content": null,
            "justify_items": null,
            "left": null,
            "margin": null,
            "max_height": null,
            "max_width": null,
            "min_height": null,
            "min_width": null,
            "object_fit": null,
            "object_position": null,
            "order": null,
            "overflow": null,
            "overflow_x": null,
            "overflow_y": null,
            "padding": null,
            "right": null,
            "top": null,
            "visibility": null,
            "width": null
          }
        },
        "dfd485b9e00646ae9713966e9b70e5d9": {
          "model_module": "@jupyter-widgets/controls",
          "model_name": "DescriptionStyleModel",
          "model_module_version": "1.5.0",
          "state": {
            "_model_module": "@jupyter-widgets/controls",
            "_model_module_version": "1.5.0",
            "_model_name": "DescriptionStyleModel",
            "_view_count": null,
            "_view_module": "@jupyter-widgets/base",
            "_view_module_version": "1.2.0",
            "_view_name": "StyleView",
            "description_width": ""
          }
        }
      }
    }
  },
  "cells": [
    {
      "cell_type": "markdown",
      "metadata": {
        "id": "view-in-github",
        "colab_type": "text"
      },
      "source": [
        "<a href=\"https://colab.research.google.com/github/atanilson/Comp702_Final/blob/main/Comp702_Modular.ipynb\" target=\"_parent\"><img src=\"https://colab.research.google.com/assets/colab-badge.svg\" alt=\"Open In Colab\"/></a>"
      ]
    },
    {
      "cell_type": "code",
      "execution_count": null,
      "metadata": {
        "id": "CVYUQtp6heT4"
      },
      "outputs": [],
      "source": [
        "# Libraries"
      ]
    },
    {
      "cell_type": "code",
      "source": [
        "# Geeting Files from GIt HUB"
      ],
      "metadata": {
        "id": "e43vKzeOiOZc"
      },
      "execution_count": null,
      "outputs": []
    },
    {
      "cell_type": "code",
      "source": [
        "\"\"\"\n",
        "from functools import partial\n",
        "import requests\n",
        "from pathlib import Path\n",
        "\n",
        "SCRIPTS_FOLDER = Path(\"scripts\")\n",
        "SCRIPTS_FOLDER.mkdir(parents=True,\n",
        "                     exist_ok=True)\n",
        "\n",
        "# URl of raw file in git hub\n",
        "get_data_url = \"https://raw.githubusercontent.com/atanilson/Comp702/refs/heads/main/scripts/get_data.py\"\n",
        "CNN_Model1_url = \"https://raw.githubusercontent.com/atanilson/Comp702/refs/heads/main/scripts/CNN_Model1.py\"\n",
        "data_setup_url = \"https://raw.githubusercontent.com/atanilson/Comp702/refs/heads/main/scripts/data_setup.py\"\n",
        "engine_url = \"https://raw.githubusercontent.com/atanilson/Comp702/refs/heads/main/scripts/engine.py\"\n",
        "Main_script_url = \"https://raw.githubusercontent.com/atanilson/Comp702/refs/heads/main/scripts/Main_script.py\"\n",
        "utils_url = \"https://raw.githubusercontent.com/atanilson/Comp702/refs/heads/main/scripts/utils.py\"\n",
        "\n",
        "request = requests.get(get_data_url)\n",
        "with open(\"scripts/get_data.py\",\"wb\") as f:\n",
        "  f.write(request.content)\n",
        "\"\"\""
      ],
      "metadata": {
        "id": "ljM39_KdiUd-"
      },
      "execution_count": null,
      "outputs": []
    },
    {
      "cell_type": "code",
      "source": [
        "%%capture\n",
        "!mkdir scripts\n",
        "!wget https://raw.githubusercontent.com/atanilson/Comp702/refs/heads/main/scripts/get_data.py\n",
        "!wget https://raw.githubusercontent.com/atanilson/Comp702/refs/heads/main/scripts/CNN_Model1.py\n",
        "!wget https://raw.githubusercontent.com/atanilson/Comp702/refs/heads/main/scripts/data_setup.py\n",
        "!wget https://raw.githubusercontent.com/atanilson/Comp702/refs/heads/main/scripts/engine.py\n",
        "!wget https://raw.githubusercontent.com/atanilson/Comp702/refs/heads/main/scripts/Main_script.py\n",
        "!wget https://raw.githubusercontent.com/atanilson/Comp702/refs/heads/main/scripts/utils.py\n",
        "!mv get_data.py CNN_Model1.py data_setup.py engine.py Main_script.py utils.py scripts/\n",
        "#!unzip scripts.zip"
      ],
      "metadata": {
        "id": "l7h9AXYnkqAK"
      },
      "execution_count": null,
      "outputs": []
    },
    {
      "cell_type": "code",
      "source": [
        "import os\n",
        "import torch\n",
        "from scripts import data_setup, engine, utils, get_data\n",
        "from timeit import default_timer as timer\n",
        "\n",
        "from torchvision import transforms\n",
        "\n",
        "device = \"cuda\" if torch.cuda.is_available() else \"cpu\""
      ],
      "metadata": {
        "id": "wH3jCByeZOW8"
      },
      "execution_count": null,
      "outputs": []
    },
    {
      "cell_type": "code",
      "source": [
        "device"
      ],
      "metadata": {
        "colab": {
          "base_uri": "https://localhost:8080/",
          "height": 35
        },
        "id": "J7o6TZw23Fvh",
        "outputId": "31da4c62-65dc-45fb-f4eb-3e54e9d67d7f"
      },
      "execution_count": null,
      "outputs": [
        {
          "output_type": "execute_result",
          "data": {
            "text/plain": [
              "'cuda'"
            ],
            "application/vnd.google.colaboratory.intrinsic+json": {
              "type": "string"
            }
          },
          "metadata": {},
          "execution_count": 3
        }
      ]
    },
    {
      "cell_type": "code",
      "source": [
        "#!nvidia-smi"
      ],
      "metadata": {
        "id": "geZUdLPEB05S",
        "outputId": "51ec5da6-c56c-444c-9429-87e05b770020",
        "colab": {
          "base_uri": "https://localhost:8080/"
        }
      },
      "execution_count": null,
      "outputs": [
        {
          "output_type": "stream",
          "name": "stdout",
          "text": [
            "Sat Aug  2 09:05:29 2025       \n",
            "+-----------------------------------------------------------------------------------------+\n",
            "| NVIDIA-SMI 550.54.15              Driver Version: 550.54.15      CUDA Version: 12.4     |\n",
            "|-----------------------------------------+------------------------+----------------------+\n",
            "| GPU  Name                 Persistence-M | Bus-Id          Disp.A | Volatile Uncorr. ECC |\n",
            "| Fan  Temp   Perf          Pwr:Usage/Cap |           Memory-Usage | GPU-Util  Compute M. |\n",
            "|                                         |                        |               MIG M. |\n",
            "|=========================================+========================+======================|\n",
            "|   0  Tesla T4                       Off |   00000000:00:04.0 Off |                    0 |\n",
            "| N/A   54C    P8              9W /   70W |       2MiB /  15360MiB |      0%      Default |\n",
            "|                                         |                        |                  N/A |\n",
            "+-----------------------------------------+------------------------+----------------------+\n",
            "                                                                                         \n",
            "+-----------------------------------------------------------------------------------------+\n",
            "| Processes:                                                                              |\n",
            "|  GPU   GI   CI        PID   Type   Process name                              GPU Memory |\n",
            "|        ID   ID                                                               Usage      |\n",
            "|=========================================================================================|\n",
            "|  No running processes found                                                             |\n",
            "+-----------------------------------------------------------------------------------------+\n"
          ]
        }
      ]
    },
    {
      "cell_type": "code",
      "source": [
        "from google.colab import drive\n",
        "drive.mount('/content/drive', force_remount=True)"
      ],
      "metadata": {
        "id": "PwIR5pd6W0SS",
        "outputId": "5b680561-c075-4c42-9400-a879128c280a",
        "colab": {
          "base_uri": "https://localhost:8080/"
        }
      },
      "execution_count": null,
      "outputs": [
        {
          "output_type": "stream",
          "name": "stdout",
          "text": [
            "Mounted at /content/drive\n"
          ]
        }
      ]
    },
    {
      "cell_type": "code",
      "source": [
        "get_data.download()"
      ],
      "metadata": {
        "id": "uiaWypy7ZP7H"
      },
      "execution_count": null,
      "outputs": []
    },
    {
      "cell_type": "code",
      "source": [
        "#!rm -r \"data/EuroSAT_RGB/River\""
      ],
      "metadata": {
        "id": "h6dYkOfPLTrn"
      },
      "execution_count": null,
      "outputs": []
    },
    {
      "cell_type": "code",
      "source": [
        "!rm -r \"data/EuroSAT_RGB/SeaLake\""
      ],
      "metadata": {
        "id": "eOdRPB-9L05Z"
      },
      "execution_count": null,
      "outputs": []
    },
    {
      "cell_type": "code",
      "source": [
        "# Setup hyperparameters\n",
        "NUM_EPOCHS = 150\n",
        "BATCH_SIZE = 32\n",
        "TEST_SPLIT = 0.2\n",
        "HIDDEN_UNITS = 10\n",
        "LEARNING_RATE = 0.001\n",
        "\n",
        "# Setup directories\n",
        "data_dir = \"data/EuroSAT_RGB\"\n",
        "\n",
        "size_cut = 224\n",
        "\n",
        "# Create tranforms Train\n",
        "transform_train = transforms.Compose([\n",
        "    transforms.Resize(size_cut),\n",
        "    transforms.RandomResizedCrop(size_cut),\n",
        "    transforms.RandomHorizontalFlip(),\n",
        "    transforms.RandomVerticalFlip(),\n",
        "    #transforms.RandomHorizontalFlip(),\n",
        "    #****transforms.RandomRotation(10),\n",
        "    #transforms.RandomVerticalFlip(),\n",
        "    transforms.ToTensor(),\n",
        "    transforms.Normalize(mean=[0.485, 0.456, 0.406], std=[0.229, 0.224, 0.225])\n",
        "])\n",
        "\n",
        "# Create tranforms test\n",
        "transform_test = transforms.Compose([\n",
        "    transforms.Resize(size_cut),\n",
        "    transforms.CenterCrop(size_cut),\n",
        "    #transforms.RandomHorizontalFlip(),\n",
        "    #****transforms.RandomRotation(10),\n",
        "    #transforms.RandomVerticalFlip(),\n",
        "    transforms.ToTensor(),\n",
        "    transforms.Normalize(mean=[0.485, 0.456, 0.406], std=[0.229, 0.224, 0.225])\n",
        "])\n",
        "\n",
        "\n",
        "## Test transform onlr resise and normilize\n",
        "\n",
        "\n",
        "# Create dataloaders\n",
        "train_dataloader, test_dataloader, class_names = data_setup.create_dataloaders2(dataset_dir=\"data/EuroSAT_RGB\",\n",
        "                                                                               train_transform=transform_train,\n",
        "                                                                               test_transform=transform_test,\n",
        "                                                                               batch_size=BATCH_SIZE,\n",
        "                                                                               test_split = TEST_SPLIT,\n",
        "                                                                               #random_seed = 42,\n",
        "                                                                               #num_workers = 1\n",
        "                                                                               )"
      ],
      "metadata": {
        "id": "Ou9vjwPeluAj"
      },
      "execution_count": null,
      "outputs": []
    },
    {
      "cell_type": "code",
      "source": [
        "class_names"
      ],
      "metadata": {
        "id": "ncrVnJ89MCrA",
        "outputId": "c9ed76db-6785-4f73-d3ba-ec1a72a2896c",
        "colab": {
          "base_uri": "https://localhost:8080/"
        }
      },
      "execution_count": null,
      "outputs": [
        {
          "output_type": "execute_result",
          "data": {
            "text/plain": [
              "['AnnualCrop',\n",
              " 'Forest',\n",
              " 'HerbaceousVegetation',\n",
              " 'Highway',\n",
              " 'Industrial',\n",
              " 'Pasture',\n",
              " 'PermanentCrop',\n",
              " 'Residential',\n",
              " 'River']"
            ]
          },
          "metadata": {},
          "execution_count": 9
        }
      ]
    },
    {
      "cell_type": "code",
      "source": [
        "## MODEL\n",
        "\n",
        "###model = - instatiate wterever\n",
        "from torchvision.models import resnet50, ResNet50_Weights\n",
        "from scripts import CNN_Model1\n",
        "\n",
        "model_2 = resnet50(weights=ResNet50_Weights.DEFAULT)\n",
        "model_2.fc = torch.nn.Linear(in_features=model_2.fc.in_features, out_features=len(class_names))\n",
        "model_2 = model_2.to(device)\n",
        "\n",
        "\"\"\"\n",
        "model_1 = CNN_Model1.CNN_Model1(\n",
        "    input_shape=3,\n",
        "    hidden_units=10,\n",
        "    output_shape=len(class_names)\n",
        ").to(device)\n",
        "\"\"\""
      ],
      "metadata": {
        "id": "oCuhskbSdrV8",
        "colab": {
          "base_uri": "https://localhost:8080/",
          "height": 107
        },
        "outputId": "5828d5dc-471b-4e3f-b987-897aebf479c9"
      },
      "execution_count": null,
      "outputs": [
        {
          "output_type": "stream",
          "name": "stderr",
          "text": [
            "Downloading: \"https://download.pytorch.org/models/resnet50-11ad3fa6.pth\" to /root/.cache/torch/hub/checkpoints/resnet50-11ad3fa6.pth\n",
            "100%|██████████| 97.8M/97.8M [00:00<00:00, 150MB/s]\n"
          ]
        },
        {
          "output_type": "execute_result",
          "data": {
            "text/plain": [
              "'\\nmodel_1 = CNN_Model1.CNN_Model1(\\n    input_shape=3,\\n    hidden_units=10,\\n    output_shape=len(class_names)\\n).to(device)\\n'"
            ],
            "application/vnd.google.colaboratory.intrinsic+json": {
              "type": "string"
            }
          },
          "metadata": {},
          "execution_count": 10
        }
      ]
    },
    {
      "cell_type": "code",
      "source": [
        "## LOSS FUNCTION OPTMIZER\n",
        "loss_fn = torch.nn.CrossEntropyLoss()\n",
        "optimizer = torch.optim.SGD(params=model_2.parameters(), lr=LEARNING_RATE)\n",
        "\n",
        "start_time = timer()\n",
        "trained_model, results = engine.train(model=model_2, #Change to train next time I will change on the script\n",
        "             train_dataloader = train_dataloader,\n",
        "             test_dataloader = test_dataloader,\n",
        "             loss_fn = loss_fn,\n",
        "             optimizer = optimizer,\n",
        "             epochs = NUM_EPOCHS,\n",
        "             device=device)\n",
        "end_time = timer()\n",
        "\n",
        "time_taken = end_time-start_time\n",
        "\n",
        "print(f\"Total training time:{end_time-start_time:.3f} seconds\")"
      ],
      "metadata": {
        "colab": {
          "base_uri": "https://localhost:8080/",
          "height": 1000,
          "referenced_widgets": [
            "22924fb5250145c185bdff5e4dcab628",
            "5eaf5bd9ac8a4659bc3129d6a1c12b39",
            "2c526ff0dcc047b2b4bfa6d6cd7e04f0",
            "67c0b32d9efc4c75944d4023858b924f",
            "0c371b10e30847beb99945dddabaccd9",
            "b5ac0e1f292947e09ee4213f6225926d",
            "df3eb2fdea294523ade2dec009245dc9",
            "d5a456bea57449bb98bc444e8f27a1b5",
            "221150db62e84ec8bd72deb86d1497f1",
            "51b0d2844157402c82fbb88370bcaa2b",
            "dfd485b9e00646ae9713966e9b70e5d9"
          ]
        },
        "id": "LazltuE-dYry",
        "outputId": "d3a872fc-1c94-43dc-c907-8337ece3d9b6"
      },
      "execution_count": null,
      "outputs": [
        {
          "output_type": "display_data",
          "data": {
            "text/plain": [
              "  0%|          | 0/150 [00:00<?, ?it/s]"
            ],
            "application/vnd.jupyter.widget-view+json": {
              "version_major": 2,
              "version_minor": 0,
              "model_id": "22924fb5250145c185bdff5e4dcab628"
            }
          },
          "metadata": {}
        },
        {
          "output_type": "stream",
          "name": "stdout",
          "text": [
            "Epoch: 0 | Train loss: 1.9153, Train Acc: 41.2135% | Test loss:1.6550, Test acc: 56.6458%\n",
            "Epoch: 1 | Train loss: 1.2893, Train Acc: 64.5365% | Test loss:1.1056, Test acc: 69.9375%\n",
            "Epoch: 2 | Train loss: 0.9266, Train Acc: 72.6719% | Test loss:0.7989, Test acc: 78.0417%\n",
            "Epoch: 3 | Train loss: 0.7505, Train Acc: 76.8073% | Test loss:0.5872, Test acc: 83.4375%\n",
            "Epoch: 4 | Train loss: 0.6355, Train Acc: 79.7812% | Test loss:0.5049, Test acc: 85.1875%\n",
            "Epoch: 5 | Train loss: 0.5585, Train Acc: 82.0521% | Test loss:0.3886, Test acc: 88.6458%\n",
            "Epoch: 6 | Train loss: 0.5084, Train Acc: 83.4271% | Test loss:0.3508, Test acc: 89.6042%\n",
            "Epoch: 7 | Train loss: 0.4626, Train Acc: 85.1302% | Test loss:0.3119, Test acc: 90.7083%\n",
            "Epoch: 8 | Train loss: 0.4423, Train Acc: 85.6510% | Test loss:0.2768, Test acc: 91.8542%\n",
            "Epoch: 9 | Train loss: 0.4029, Train Acc: 87.0729% | Test loss:0.2512, Test acc: 92.5833%\n",
            "Epoch: 10 | Train loss: 0.3884, Train Acc: 87.2344% | Test loss:0.2295, Test acc: 92.7917%\n",
            "Epoch: 11 | Train loss: 0.3729, Train Acc: 87.6250% | Test loss:0.2059, Test acc: 93.9375%\n",
            "Epoch: 12 | Train loss: 0.3514, Train Acc: 88.4219% | Test loss:0.2094, Test acc: 93.5833%\n",
            "Epoch: 13 | Train loss: 0.3395, Train Acc: 89.0260% | Test loss:0.1910, Test acc: 94.5833%\n",
            "Epoch: 14 | Train loss: 0.3315, Train Acc: 89.1719% | Test loss:0.1726, Test acc: 94.6250%\n",
            "Epoch: 15 | Train loss: 0.3045, Train Acc: 90.0260% | Test loss:0.1823, Test acc: 94.2708%\n",
            "Epoch: 16 | Train loss: 0.3030, Train Acc: 90.1042% | Test loss:0.1629, Test acc: 95.0417%\n",
            "Epoch: 17 | Train loss: 0.2970, Train Acc: 90.3906% | Test loss:0.1545, Test acc: 95.5000%\n",
            "Epoch: 18 | Train loss: 0.2824, Train Acc: 90.8646% | Test loss:0.1601, Test acc: 95.0417%\n",
            "Epoch: 19 | Train loss: 0.2829, Train Acc: 90.7708% | Test loss:0.1449, Test acc: 95.4167%\n",
            "Epoch: 20 | Train loss: 0.2717, Train Acc: 91.2292% | Test loss:0.1414, Test acc: 95.7500%\n",
            "Epoch: 21 | Train loss: 0.2666, Train Acc: 91.2604% | Test loss:0.1376, Test acc: 95.8750%\n",
            "Epoch: 22 | Train loss: 0.2687, Train Acc: 91.1042% | Test loss:0.1307, Test acc: 95.9167%\n",
            "Epoch: 23 | Train loss: 0.2580, Train Acc: 91.6562% | Test loss:0.1268, Test acc: 95.8542%\n",
            "Epoch: 24 | Train loss: 0.2634, Train Acc: 91.3333% | Test loss:0.1267, Test acc: 95.9583%\n",
            "Epoch: 25 | Train loss: 0.2512, Train Acc: 91.6823% | Test loss:0.1185, Test acc: 96.3333%\n",
            "Epoch: 26 | Train loss: 0.2454, Train Acc: 92.1198% | Test loss:0.1197, Test acc: 96.1458%\n",
            "Epoch: 27 | Train loss: 0.2467, Train Acc: 91.9375% | Test loss:0.1216, Test acc: 96.2917%\n",
            "Epoch: 28 | Train loss: 0.2406, Train Acc: 92.2240% | Test loss:0.1239, Test acc: 96.0417%\n",
            "Epoch: 29 | Train loss: 0.2380, Train Acc: 92.1562% | Test loss:0.1180, Test acc: 95.9583%\n",
            "Epoch: 30 | Train loss: 0.2378, Train Acc: 92.3490% | Test loss:0.1133, Test acc: 96.2500%\n",
            "Epoch: 31 | Train loss: 0.2392, Train Acc: 92.1042% | Test loss:0.1082, Test acc: 96.5625%\n",
            "Epoch: 32 | Train loss: 0.2278, Train Acc: 92.5990% | Test loss:0.1100, Test acc: 96.2917%\n",
            "Epoch: 33 | Train loss: 0.2193, Train Acc: 92.8333% | Test loss:0.1064, Test acc: 96.5000%\n",
            "Epoch: 34 | Train loss: 0.2176, Train Acc: 93.1406% | Test loss:0.1079, Test acc: 96.3333%\n",
            "Epoch: 35 | Train loss: 0.2178, Train Acc: 93.0573% | Test loss:0.1080, Test acc: 96.4583%\n",
            "Epoch: 36 | Train loss: 0.2235, Train Acc: 92.4740% | Test loss:0.1032, Test acc: 96.8125%\n",
            "Epoch: 37 | Train loss: 0.2141, Train Acc: 93.0156% | Test loss:0.1027, Test acc: 96.5833%\n",
            "Epoch: 38 | Train loss: 0.2110, Train Acc: 93.0052% | Test loss:0.1004, Test acc: 96.7083%\n",
            "Epoch: 39 | Train loss: 0.2171, Train Acc: 92.9844% | Test loss:0.0956, Test acc: 97.0000%\n",
            "Epoch: 40 | Train loss: 0.2113, Train Acc: 93.0677% | Test loss:0.0951, Test acc: 96.8958%\n",
            "Epoch: 41 | Train loss: 0.2000, Train Acc: 93.4583% | Test loss:0.0980, Test acc: 96.5625%\n",
            "Epoch: 42 | Train loss: 0.2063, Train Acc: 93.2292% | Test loss:0.0945, Test acc: 96.8333%\n",
            "Epoch: 43 | Train loss: 0.2018, Train Acc: 93.4271% | Test loss:0.0911, Test acc: 96.7917%\n",
            "Epoch: 44 | Train loss: 0.1910, Train Acc: 93.7656% | Test loss:0.0895, Test acc: 97.0625%\n",
            "Epoch: 45 | Train loss: 0.1983, Train Acc: 93.6094% | Test loss:0.0869, Test acc: 97.1042%\n",
            "Epoch: 46 | Train loss: 0.1963, Train Acc: 93.7708% | Test loss:0.0895, Test acc: 97.0833%\n",
            "Epoch: 47 | Train loss: 0.1979, Train Acc: 93.5208% | Test loss:0.0877, Test acc: 97.0417%\n",
            "Epoch: 48 | Train loss: 0.1941, Train Acc: 93.6198% | Test loss:0.0886, Test acc: 97.1250%\n",
            "Epoch: 49 | Train loss: 0.1917, Train Acc: 93.8073% | Test loss:0.0907, Test acc: 96.9792%\n",
            "Epoch: 50 | Train loss: 0.1935, Train Acc: 93.5885% | Test loss:0.0835, Test acc: 97.2917%\n",
            "Epoch: 51 | Train loss: 0.1839, Train Acc: 93.8438% | Test loss:0.0816, Test acc: 97.2917%\n",
            "Epoch: 52 | Train loss: 0.1884, Train Acc: 93.9740% | Test loss:0.0833, Test acc: 97.0417%\n",
            "Epoch: 53 | Train loss: 0.1881, Train Acc: 93.7240% | Test loss:0.0854, Test acc: 97.2292%\n",
            "Epoch: 54 | Train loss: 0.1833, Train Acc: 94.0885% | Test loss:0.0817, Test acc: 97.3125%\n",
            "Epoch: 55 | Train loss: 0.1835, Train Acc: 94.1823% | Test loss:0.0855, Test acc: 97.0625%\n",
            "Epoch: 56 | Train loss: 0.1805, Train Acc: 94.0885% | Test loss:0.0837, Test acc: 97.2292%\n",
            "Epoch: 57 | Train loss: 0.1786, Train Acc: 94.2500% | Test loss:0.0813, Test acc: 97.3125%\n",
            "Epoch: 58 | Train loss: 0.1853, Train Acc: 93.8490% | Test loss:0.0793, Test acc: 97.3958%\n",
            "Epoch: 59 | Train loss: 0.1812, Train Acc: 93.8958% | Test loss:0.0802, Test acc: 97.4375%\n",
            "Epoch: 60 | Train loss: 0.1740, Train Acc: 94.2031% | Test loss:0.0825, Test acc: 97.3333%\n",
            "Epoch: 61 | Train loss: 0.1776, Train Acc: 94.1719% | Test loss:0.0795, Test acc: 97.2708%\n",
            "Epoch: 62 | Train loss: 0.1701, Train Acc: 94.5521% | Test loss:0.0759, Test acc: 97.3958%\n",
            "Epoch: 63 | Train loss: 0.1708, Train Acc: 94.3750% | Test loss:0.0769, Test acc: 97.5625%\n",
            "Epoch: 64 | Train loss: 0.1700, Train Acc: 94.4427% | Test loss:0.0722, Test acc: 97.6458%\n",
            "Epoch: 65 | Train loss: 0.1665, Train Acc: 94.3542% | Test loss:0.0768, Test acc: 97.3958%\n",
            "Epoch: 66 | Train loss: 0.1714, Train Acc: 94.5104% | Test loss:0.0726, Test acc: 97.5208%\n",
            "Epoch: 67 | Train loss: 0.1679, Train Acc: 94.6458% | Test loss:0.0768, Test acc: 97.4583%\n",
            "Epoch: 68 | Train loss: 0.1707, Train Acc: 94.3594% | Test loss:0.0744, Test acc: 97.4583%\n",
            "Epoch: 69 | Train loss: 0.1702, Train Acc: 94.5521% | Test loss:0.0758, Test acc: 97.2708%\n",
            "Epoch: 70 | Train loss: 0.1643, Train Acc: 94.5417% | Test loss:0.0738, Test acc: 97.5208%\n",
            "Epoch: 71 | Train loss: 0.1708, Train Acc: 94.3802% | Test loss:0.0722, Test acc: 97.5208%\n",
            "Epoch: 72 | Train loss: 0.1661, Train Acc: 94.5000% | Test loss:0.0727, Test acc: 97.5833%\n",
            "Epoch: 73 | Train loss: 0.1663, Train Acc: 94.4115% | Test loss:0.0709, Test acc: 97.6250%\n",
            "Epoch: 74 | Train loss: 0.1659, Train Acc: 94.6927% | Test loss:0.0694, Test acc: 97.6250%\n",
            "Epoch: 75 | Train loss: 0.1636, Train Acc: 94.6979% | Test loss:0.0689, Test acc: 97.6042%\n",
            "Epoch: 76 | Train loss: 0.1632, Train Acc: 94.6094% | Test loss:0.0664, Test acc: 97.8542%\n",
            "Epoch: 77 | Train loss: 0.1569, Train Acc: 94.8646% | Test loss:0.0677, Test acc: 97.8333%\n",
            "Epoch: 78 | Train loss: 0.1518, Train Acc: 95.0104% | Test loss:0.0691, Test acc: 97.6042%\n",
            "Epoch: 79 | Train loss: 0.1553, Train Acc: 94.9271% | Test loss:0.0687, Test acc: 97.5417%\n",
            "Epoch: 80 | Train loss: 0.1630, Train Acc: 94.6979% | Test loss:0.0643, Test acc: 97.8750%\n",
            "Epoch: 81 | Train loss: 0.1576, Train Acc: 94.8281% | Test loss:0.0682, Test acc: 97.6458%\n",
            "Epoch: 82 | Train loss: 0.1557, Train Acc: 94.8229% | Test loss:0.0666, Test acc: 97.7292%\n",
            "Epoch: 83 | Train loss: 0.1583, Train Acc: 94.8698% | Test loss:0.0656, Test acc: 97.5833%\n",
            "Epoch: 84 | Train loss: 0.1574, Train Acc: 94.9792% | Test loss:0.0652, Test acc: 97.8125%\n",
            "Epoch: 85 | Train loss: 0.1600, Train Acc: 94.7865% | Test loss:0.0653, Test acc: 97.7708%\n",
            "Epoch: 86 | Train loss: 0.1566, Train Acc: 95.0573% | Test loss:0.0661, Test acc: 97.7917%\n",
            "Epoch: 87 | Train loss: 0.1462, Train Acc: 95.3594% | Test loss:0.0660, Test acc: 97.7292%\n",
            "Epoch: 88 | Train loss: 0.1474, Train Acc: 95.2604% | Test loss:0.0642, Test acc: 97.8542%\n",
            "Epoch: 89 | Train loss: 0.1524, Train Acc: 94.9844% | Test loss:0.0645, Test acc: 97.8125%\n",
            "Epoch: 90 | Train loss: 0.1515, Train Acc: 95.0833% | Test loss:0.0656, Test acc: 97.8333%\n",
            "Epoch: 91 | Train loss: 0.1468, Train Acc: 95.3229% | Test loss:0.0638, Test acc: 97.7708%\n",
            "Epoch: 92 | Train loss: 0.1480, Train Acc: 95.2656% | Test loss:0.0632, Test acc: 97.8958%\n",
            "Epoch: 93 | Train loss: 0.1447, Train Acc: 95.3646% | Test loss:0.0637, Test acc: 97.8750%\n",
            "Epoch: 94 | Train loss: 0.1481, Train Acc: 95.1510% | Test loss:0.0617, Test acc: 98.0417%\n",
            "Epoch: 95 | Train loss: 0.1483, Train Acc: 95.1458% | Test loss:0.0619, Test acc: 97.9167%\n",
            "Epoch: 96 | Train loss: 0.1461, Train Acc: 95.2865% | Test loss:0.0623, Test acc: 97.7083%\n",
            "Epoch: 97 | Train loss: 0.1458, Train Acc: 95.2656% | Test loss:0.0630, Test acc: 98.1042%\n",
            "Epoch: 98 | Train loss: 0.1481, Train Acc: 95.1406% | Test loss:0.0635, Test acc: 97.8333%\n",
            "Epoch: 99 | Train loss: 0.1434, Train Acc: 95.1406% | Test loss:0.0635, Test acc: 97.8333%\n",
            "Epoch: 100 | Train loss: 0.1392, Train Acc: 95.4740% | Test loss:0.0607, Test acc: 97.8750%\n",
            "Epoch: 101 | Train loss: 0.1457, Train Acc: 95.2083% | Test loss:0.0632, Test acc: 98.0208%\n",
            "Epoch: 102 | Train loss: 0.1496, Train Acc: 95.2604% | Test loss:0.0657, Test acc: 97.7917%\n",
            "Epoch: 103 | Train loss: 0.1426, Train Acc: 95.2500% | Test loss:0.0605, Test acc: 98.0000%\n",
            "Epoch: 104 | Train loss: 0.1427, Train Acc: 95.4010% | Test loss:0.0607, Test acc: 98.0000%\n",
            "Epoch: 105 | Train loss: 0.1403, Train Acc: 95.1719% | Test loss:0.0620, Test acc: 97.9583%\n",
            "Epoch: 106 | Train loss: 0.1337, Train Acc: 95.6562% | Test loss:0.0600, Test acc: 97.9792%\n",
            "Epoch: 107 | Train loss: 0.1419, Train Acc: 95.4479% | Test loss:0.0613, Test acc: 97.8750%\n",
            "Epoch: 108 | Train loss: 0.1377, Train Acc: 95.5833% | Test loss:0.0602, Test acc: 97.8542%\n",
            "Epoch: 109 | Train loss: 0.1374, Train Acc: 95.4688% | Test loss:0.0610, Test acc: 97.8750%\n",
            "Epoch: 110 | Train loss: 0.1401, Train Acc: 95.2656% | Test loss:0.0590, Test acc: 97.9375%\n",
            "Epoch: 111 | Train loss: 0.1378, Train Acc: 95.5052% | Test loss:0.0593, Test acc: 98.0000%\n",
            "Epoch: 112 | Train loss: 0.1402, Train Acc: 95.5990% | Test loss:0.0598, Test acc: 98.1042%\n",
            "Epoch: 113 | Train loss: 0.1391, Train Acc: 95.5104% | Test loss:0.0572, Test acc: 98.1042%\n",
            "Epoch: 114 | Train loss: 0.1352, Train Acc: 95.7760% | Test loss:0.0588, Test acc: 98.0000%\n",
            "Epoch: 115 | Train loss: 0.1348, Train Acc: 95.5677% | Test loss:0.0594, Test acc: 97.9583%\n",
            "Epoch: 116 | Train loss: 0.1336, Train Acc: 95.5677% | Test loss:0.0598, Test acc: 97.9167%\n",
            "Epoch: 117 | Train loss: 0.1356, Train Acc: 95.7344% | Test loss:0.0580, Test acc: 98.0417%\n",
            "Epoch: 118 | Train loss: 0.1333, Train Acc: 95.7552% | Test loss:0.0616, Test acc: 97.9167%\n",
            "Epoch: 119 | Train loss: 0.1335, Train Acc: 95.5990% | Test loss:0.0587, Test acc: 98.0625%\n",
            "Epoch: 120 | Train loss: 0.1312, Train Acc: 95.6979% | Test loss:0.0586, Test acc: 98.1250%\n",
            "Epoch: 121 | Train loss: 0.1336, Train Acc: 95.5990% | Test loss:0.0577, Test acc: 98.0833%\n",
            "Epoch: 122 | Train loss: 0.1301, Train Acc: 95.7604% | Test loss:0.0568, Test acc: 97.8750%\n",
            "Epoch: 123 | Train loss: 0.1319, Train Acc: 95.7969% | Test loss:0.0610, Test acc: 97.9583%\n",
            "Epoch: 124 | Train loss: 0.1315, Train Acc: 95.6927% | Test loss:0.0569, Test acc: 98.0833%\n",
            "Epoch: 125 | Train loss: 0.1281, Train Acc: 95.8906% | Test loss:0.0599, Test acc: 97.9792%\n",
            "Epoch: 126 | Train loss: 0.1293, Train Acc: 95.7604% | Test loss:0.0585, Test acc: 98.0417%\n",
            "Epoch: 127 | Train loss: 0.1277, Train Acc: 95.9115% | Test loss:0.0616, Test acc: 97.8750%\n",
            "Epoch: 128 | Train loss: 0.1281, Train Acc: 95.8177% | Test loss:0.0584, Test acc: 97.8542%\n",
            "Epoch: 129 | Train loss: 0.1262, Train Acc: 95.8385% | Test loss:0.0566, Test acc: 97.9375%\n",
            "Epoch: 130 | Train loss: 0.1192, Train Acc: 96.0573% | Test loss:0.0558, Test acc: 98.1042%\n",
            "Epoch: 131 | Train loss: 0.1287, Train Acc: 95.7812% | Test loss:0.0561, Test acc: 98.1042%\n",
            "Epoch: 132 | Train loss: 0.1272, Train Acc: 95.9375% | Test loss:0.0546, Test acc: 98.0625%\n",
            "Epoch: 133 | Train loss: 0.1291, Train Acc: 95.7917% | Test loss:0.0541, Test acc: 98.3333%\n",
            "Epoch: 134 | Train loss: 0.1347, Train Acc: 95.5260% | Test loss:0.0559, Test acc: 98.1875%\n",
            "Epoch: 135 | Train loss: 0.1288, Train Acc: 95.7604% | Test loss:0.0568, Test acc: 97.9583%\n",
            "Epoch: 136 | Train loss: 0.1193, Train Acc: 96.0104% | Test loss:0.0555, Test acc: 98.1042%\n",
            "Epoch: 137 | Train loss: 0.1226, Train Acc: 95.8438% | Test loss:0.0540, Test acc: 98.2708%\n",
            "Epoch: 138 | Train loss: 0.1293, Train Acc: 95.7865% | Test loss:0.0548, Test acc: 98.2083%\n",
            "Epoch: 139 | Train loss: 0.1272, Train Acc: 95.9323% | Test loss:0.0564, Test acc: 98.1042%\n",
            "Epoch: 140 | Train loss: 0.1187, Train Acc: 96.1719% | Test loss:0.0585, Test acc: 98.1458%\n",
            "Epoch: 141 | Train loss: 0.1232, Train Acc: 96.0260% | Test loss:0.0550, Test acc: 98.1042%\n",
            "Epoch: 142 | Train loss: 0.1251, Train Acc: 95.9583% | Test loss:0.0543, Test acc: 98.1875%\n",
            "Epoch: 143 | Train loss: 0.1256, Train Acc: 95.8073% | Test loss:0.0566, Test acc: 98.1458%\n",
            "Epoch: 144 | Train loss: 0.1243, Train Acc: 96.1146% | Test loss:0.0518, Test acc: 98.2292%\n",
            "Epoch: 145 | Train loss: 0.1249, Train Acc: 95.9115% | Test loss:0.0525, Test acc: 98.1458%\n",
            "Epoch: 146 | Train loss: 0.1182, Train Acc: 96.2031% | Test loss:0.0521, Test acc: 98.2083%\n",
            "Epoch: 147 | Train loss: 0.1232, Train Acc: 95.9896% | Test loss:0.0555, Test acc: 98.0417%\n",
            "Epoch: 148 | Train loss: 0.1222, Train Acc: 96.0677% | Test loss:0.0523, Test acc: 98.1667%\n",
            "Epoch: 149 | Train loss: 0.1228, Train Acc: 96.0260% | Test loss:0.0531, Test acc: 98.1250%\n",
            "Finished, best loss: 0.0518, best acc: 98.2292\n",
            "Total training time:29086.456 seconds\n"
          ]
        }
      ]
    },
    {
      "cell_type": "code",
      "source": [
        "type(trained_model)"
      ],
      "metadata": {
        "colab": {
          "base_uri": "https://localhost:8080/",
          "height": 120
        },
        "id": "hRwGXeWZPR65",
        "outputId": "0ac6c6ca-108b-49b7-da83-36fc087e569f"
      },
      "execution_count": null,
      "outputs": [
        {
          "output_type": "execute_result",
          "data": {
            "text/plain": [
              "scripts.CNN_Model1.CNN_Model1"
            ],
            "text/html": [
              "<div style=\"max-width:800px; border: 1px solid var(--colab-border-color);\"><style>\n",
              "      pre.function-repr-contents {\n",
              "        overflow-x: auto;\n",
              "        padding: 8px 12px;\n",
              "        max-height: 500px;\n",
              "      }\n",
              "\n",
              "      pre.function-repr-contents.function-repr-contents-collapsed {\n",
              "        cursor: pointer;\n",
              "        max-height: 100px;\n",
              "      }\n",
              "    </style>\n",
              "    <pre style=\"white-space: initial; background:\n",
              "         var(--colab-secondary-surface-color); padding: 8px 12px;\n",
              "         border-bottom: 1px solid var(--colab-border-color);\"><b>scripts.CNN_Model1.CNN_Model1</b><br/>def _wrapped_call_impl(*args, **kwargs)</pre><pre class=\"function-repr-contents function-repr-contents-collapsed\" style=\"\"><a class=\"filepath\" style=\"display:none\" href=\"#\">/content/scripts/CNN_Model1.py</a>Model ...</pre>\n",
              "      <script>\n",
              "      if (google.colab.kernel.accessAllowed && google.colab.files && google.colab.files.view) {\n",
              "        for (const element of document.querySelectorAll('.filepath')) {\n",
              "          element.style.display = 'block'\n",
              "          element.onclick = (event) => {\n",
              "            event.preventDefault();\n",
              "            event.stopPropagation();\n",
              "            google.colab.files.view(element.textContent, 4);\n",
              "          };\n",
              "        }\n",
              "      }\n",
              "      for (const element of document.querySelectorAll('.function-repr-contents')) {\n",
              "        element.onclick = (event) => {\n",
              "          event.preventDefault();\n",
              "          event.stopPropagation();\n",
              "          element.classList.toggle('function-repr-contents-collapsed');\n",
              "        };\n",
              "      }\n",
              "      </script>\n",
              "      </div>"
            ]
          },
          "metadata": {},
          "execution_count": 14
        }
      ]
    },
    {
      "cell_type": "code",
      "source": [
        "save_dir = \"./drive/My Drive/Colab Notebooks/Comp702/Models/Retrained\""
      ],
      "metadata": {
        "id": "0Ii6AC63gfS1"
      },
      "execution_count": null,
      "outputs": []
    },
    {
      "cell_type": "code",
      "source": [
        "utils.plot_loss_curves(results)"
      ],
      "metadata": {
        "colab": {
          "base_uri": "https://localhost:8080/",
          "height": 454
        },
        "id": "qo1aSHVeu-hD",
        "outputId": "b04bb449-0846-4111-85ba-720d34340b27"
      },
      "execution_count": null,
      "outputs": [
        {
          "output_type": "display_data",
          "data": {
            "text/plain": [
              "<Figure size 1500x700 with 2 Axes>"
            ],
            "image/png": "[encoded data removed]"
          },
          "metadata": {}
        }
      ]
    },
    {
      "cell_type": "code",
      "source": [
        "#\n",
        "utils.save_model(model=trained_model,\n",
        "                 target_dir = save_dir,\n",
        "                 model_name=\"RESNET50_0001_SDG-RGB_B32_WW_EP150_S224_9CL.pth\")\n",
        "\n",
        "#\n",
        "utils.save_results(results=results,\n",
        "                   optimizer=\"SDG\",\n",
        "                   lr=\"0_001\",\n",
        "                   model=\"RESNET50_RGB_B32_WW_EP150_S224_9CL\",\n",
        "                   time=time_taken,\n",
        "                   save_dir=save_dir)"
      ],
      "metadata": {
        "colab": {
          "base_uri": "https://localhost:8080/"
        },
        "id": "fdCBMxoHeF2U",
        "outputId": "5732b227-60b0-404e-e1cf-78fb73fca004"
      },
      "execution_count": null,
      "outputs": [
        {
          "output_type": "stream",
          "name": "stdout",
          "text": [
            "[INFO] Saving model to: drive/My Drive/Colab Notebooks/Comp702/Models/Retrained/RESNET50_0001_SDG-RGB_B32_WW_EP150_S224_9CL.pth\n",
            "Saving to ./drive/My Drive/Colab Notebooks/Comp702/Models/RetrainedRESNET50_RGB_B32_WW_EP150_S224_9CL_SDG_0_001.csv\n"
          ]
        }
      ]
    },
    {
      "cell_type": "code",
      "source": [
        "#\n",
        "utils.save_results(results=results,\n",
        "                   optimizer=\"ADAMmmmm\",\n",
        "                   lr=\"0_001\",\n",
        "                   model=\"MODEL_1_RGB\",\n",
        "                   time=time_taken,\n",
        "                   save_dir=save_dir)"
      ],
      "metadata": {
        "id": "hVb6QTxjjcza"
      },
      "execution_count": null,
      "outputs": []
    },
    {
      "cell_type": "code",
      "source": [],
      "metadata": {
        "id": "TnDFfwgJwIiL"
      },
      "execution_count": null,
      "outputs": []
    },
    {
      "cell_type": "code",
      "source": [],
      "metadata": {
        "id": "hPJUvOIbuwfE"
      },
      "execution_count": null,
      "outputs": []
    }
  ]
}